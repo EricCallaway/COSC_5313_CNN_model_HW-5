{
  "nbformat": 4,
  "nbformat_minor": 0,
  "metadata": {
    "colab": {
      "name": "CNN_model_HW#5.ipynb",
      "provenance": [],
      "collapsed_sections": [],
      "mount_file_id": "17Zwl1QolU4t-RoXfthmo21YYmjLneV_S",
      "authorship_tag": "ABX9TyNfIBXjL8TN7cPwlv/qr4xd",
      "include_colab_link": true
    },
    "kernelspec": {
      "name": "python3",
      "display_name": "Python 3"
    },
    "language_info": {
      "name": "python"
    }
  },
  "cells": [
    {
      "cell_type": "markdown",
      "metadata": {
        "id": "view-in-github",
        "colab_type": "text"
      },
      "source": [
        "<a href=\"https://colab.research.google.com/github/EricCallaway/COSC_5313_CNN_model_HW-5/blob/main/CNN_model_HW_5.ipynb\" target=\"_parent\"><img src=\"https://colab.research.google.com/assets/colab-badge.svg\" alt=\"Open In Colab\"/></a>"
      ]
    },
    {
      "cell_type": "markdown",
      "source": [
        "Import necessary Libraries"
      ],
      "metadata": {
        "id": "tmqRWvTU_Heu"
      }
    },
    {
      "cell_type": "code",
      "execution_count": 36,
      "metadata": {
        "id": "D1s68Tq9-79I"
      },
      "outputs": [],
      "source": [
        "import tensorflow as tf\n",
        "from tensorflow import keras\n",
        "from tensorflow.keras.models import Sequential\n",
        "from tensorflow.keras.layers import Dense, Dropout, Activation, Flatten\n",
        "from tensorflow.keras.layers import Conv2D, MaxPooling2D\n",
        "from tensorflow.keras.preprocessing import image\n",
        "from tensorflow.keras.preprocessing.image import ImageDataGenerator\n",
        "from keras import regularizers, optimizers\n",
        "import matplotlib.pyplot as plt\n",
        "import pandas as pd\n",
        "import numpy as np\n",
        "\n"
      ]
    },
    {
      "cell_type": "markdown",
      "source": [
        "Import Dataset"
      ],
      "metadata": {
        "id": "5KCZJaubCrOY"
      }
    },
    {
      "cell_type": "code",
      "source": [
        "from google.colab import drive\n",
        "drive.mount('/content/drive', force_remount=False)"
      ],
      "metadata": {
        "colab": {
          "base_uri": "https://localhost:8080/"
        },
        "id": "0X_RgFxhCtQa",
        "outputId": "6c44e098-9713-4964-d21c-2530d6ca211d"
      },
      "execution_count": 3,
      "outputs": [
        {
          "output_type": "stream",
          "name": "stdout",
          "text": [
            "Drive already mounted at /content/drive; to attempt to forcibly remount, call drive.mount(\"/content/drive\", force_remount=True).\n"
          ]
        }
      ]
    },
    {
      "cell_type": "code",
      "source": [
        "img_data_path_1 = \"/content/drive/MyDrive/Data/HW#5_Dataset/imgs1/\"\n",
        "img_data_path_2 = \"/content/drive/MyDrive/Data/HW#5_Dataset/imgs2/\"\n",
        "file_data = \"/content/drive/MyDrive/Data/HW#5_Dataset/file_data.csv\"\n",
        "class_0_path = \"/content/drive/MyDrive/Data/HW#5_Dataset/class_0.csv\"\n",
        "class_1_path = \"/content/drive/MyDrive/Data/HW#5_Dataset/class_1.csv\"\n",
        "class_2_path = \"/content/drive/MyDrive/Data/HW#5_Dataset/class_2.csv\"\n",
        "class_3_path = \"/content/drive/MyDrive/Data/HW#5_Dataset/class_3.csv\"\n",
        "\n",
        "\n",
        "df = pd.read_csv(file_data)\n",
        "df_class_0 = pd.read_csv(class_0_path)\n",
        "df_class_1 = pd.read_csv(class_1_path)\n",
        "df_class_2 = pd.read_csv(class_2_path)\n",
        "df_class_3 = pd.read_csv(class_3_path)\n",
        "\n",
        "\n",
        "seq_nums = df['seq_num'].values\n",
        "file_name = df[' file_name'].values\n",
        "class_label = df[' class_label'].values\n",
        "\n"
      ],
      "metadata": {
        "id": "1Uq-OWj4DVqF"
      },
      "execution_count": 4,
      "outputs": []
    },
    {
      "cell_type": "code",
      "source": [
        "# pip install split-folders"
      ],
      "metadata": {
        "id": "8AFCWLpb7nog"
      },
      "execution_count": 5,
      "outputs": []
    },
    {
      "cell_type": "code",
      "source": [
        "# import splitfolders\n",
        "# input = '/content/drive/MyDrive/Data/HW#5_Dataset/imgs1'\n",
        "# output = 'final_dataset'\n",
        "# splitfolders.ratio(input, output=output, seed=1337, ratio=(.7, 0.15,0.15))"
      ],
      "metadata": {
        "id": "ZyF2lna87dVg"
      },
      "execution_count": 6,
      "outputs": []
    },
    {
      "cell_type": "code",
      "source": [
        "train_path = '/content/drive/MyDrive/Data/HW#5_Dataset/final_dataset/train/'\n",
        "test_path = '/content/drive/MyDrive/Data/HW#5_Dataset/final_dataset/test/'\n",
        "val_path = '/content/drive/MyDrive/Data/HW#5_Dataset/final_dataset/val/'"
      ],
      "metadata": {
        "id": "RBMSNRi5NpaJ"
      },
      "execution_count": 7,
      "outputs": []
    },
    {
      "cell_type": "code",
      "source": [
        "batch_size = 32\n",
        "HEIGHT = 180\n",
        "WIDTH = 180"
      ],
      "metadata": {
        "id": "atA51UdRc4nm"
      },
      "execution_count": 8,
      "outputs": []
    },
    {
      "cell_type": "code",
      "source": [
        "import os\n",
        "import cv2\n",
        "x_train = []\n",
        "for folder in os.listdir(train_path):\n",
        "  sub_path = train_path + folder\n",
        "  for img in os.listdir(sub_path):\n",
        "    image_path = sub_path + '/' + img\n",
        "    img_arr = cv2.imread(image_path)\n",
        "    img_arr=cv2.resize(img_arr,(HEIGHT,WIDTH))\n",
        "    x_train.append(img_arr)\n",
        "\n"
      ],
      "metadata": {
        "id": "Ip3V8XhKN5kq"
      },
      "execution_count": 9,
      "outputs": []
    },
    {
      "cell_type": "code",
      "source": [
        "print(len(x_train))"
      ],
      "metadata": {
        "colab": {
          "base_uri": "https://localhost:8080/"
        },
        "id": "oPJmVJJoQzaB",
        "outputId": "f07933b9-3166-4020-a205-fa077ddf14c0"
      },
      "execution_count": 10,
      "outputs": [
        {
          "output_type": "stream",
          "name": "stdout",
          "text": [
            "3043\n"
          ]
        }
      ]
    },
    {
      "cell_type": "code",
      "source": [
        "x_test = []\n",
        "for folder in os.listdir(test_path):\n",
        "  sub_path = test_path + folder\n",
        "  for img in os.listdir(sub_path):\n",
        "    image_path = sub_path + '/' + img\n",
        "    img_arr = cv2.imread(image_path)\n",
        "    img_arr=cv2.resize(img_arr,(HEIGHT,WIDTH))\n",
        "    x_test.append(img_arr)"
      ],
      "metadata": {
        "id": "mNz7aMC1QZlH"
      },
      "execution_count": 11,
      "outputs": []
    },
    {
      "cell_type": "code",
      "source": [
        "print(len(x_test))"
      ],
      "metadata": {
        "colab": {
          "base_uri": "https://localhost:8080/"
        },
        "id": "o6Eiua2DQfiy",
        "outputId": "526b8c1b-1708-4a46-be34-a631e5ed1b71"
      },
      "execution_count": 12,
      "outputs": [
        {
          "output_type": "stream",
          "name": "stdout",
          "text": [
            "655\n"
          ]
        }
      ]
    },
    {
      "cell_type": "code",
      "source": [
        "x_val = []\n",
        "for folder in os.listdir(val_path):\n",
        "  sub_path = val_path + folder\n",
        "  for img in os.listdir(sub_path):\n",
        "    image_path = sub_path + '/' + img\n",
        "    img_arr = cv2.imread(image_path)\n",
        "    img_arr=cv2.resize(img_arr,(HEIGHT,WIDTH))\n",
        "    x_val.append(img_arr)"
      ],
      "metadata": {
        "id": "XvjV1TKqRf7X"
      },
      "execution_count": 13,
      "outputs": []
    },
    {
      "cell_type": "code",
      "source": [
        "print(len(x_val))"
      ],
      "metadata": {
        "colab": {
          "base_uri": "https://localhost:8080/"
        },
        "id": "-BxGD_yCRwWR",
        "outputId": "5888328b-f7b7-46c1-8303-ecdb9d7c8ab1"
      },
      "execution_count": 14,
      "outputs": [
        {
          "output_type": "stream",
          "name": "stdout",
          "text": [
            "651\n"
          ]
        }
      ]
    },
    {
      "cell_type": "markdown",
      "source": [
        "Turn our Train, Test, and Validation lists into numpy arrays.\n",
        "Also normalize the values in the arrays between the values 0 and 1. We do this by dividing each element in the array by 255."
      ],
      "metadata": {
        "id": "ooYMzEcOR3p7"
      }
    },
    {
      "cell_type": "code",
      "source": [
        "train_x = np.array(x_train)\n",
        "test_x = np.array(x_test)\n",
        "val_x = np.array(x_val)\n",
        "\n",
        "train_x = train_x/255.0\n",
        "test_x = test_x/255.0\n",
        "val_x = val_x/255.0"
      ],
      "metadata": {
        "id": "iSsMGO2ER8Hq"
      },
      "execution_count": 15,
      "outputs": []
    },
    {
      "cell_type": "markdown",
      "source": [
        "Compute labels of corresponding datasets using ImgageDataGenerator. We use this because our images are stored in folders. We must walk through the folders and find out the corresoponding labels of images stored here. "
      ],
      "metadata": {
        "id": "DfOpoVIESq-i"
      }
    },
    {
      "cell_type": "code",
      "source": [
        "train_datagen = ImageDataGenerator(rescale = 1./255)\n",
        "test_datagen = ImageDataGenerator(rescale = 1./255)\n",
        "val_datagen = ImageDataGenerator(rescale = 1./255)"
      ],
      "metadata": {
        "id": "eOewsZ6US-iK"
      },
      "execution_count": 16,
      "outputs": []
    },
    {
      "cell_type": "code",
      "source": [
        "training_set = train_datagen.flow_from_directory(train_path,\n",
        "                                                 target_size = (HEIGHT, WIDTH),\n",
        "                                                 batch_size = batch_size,\n",
        "                                                 class_mode = 'sparse',\n",
        "                                                 classes={'normal': 0, 'glue_defects': 1, 'bubble_defects': 2, 'object_defects': 3})\n",
        "test_set = test_datagen.flow_from_directory(test_path,\n",
        "                                            target_size = (HEIGHT, WIDTH),\n",
        "                                            batch_size = batch_size,\n",
        "                                            class_mode = 'sparse',\n",
        "                                            classes={'normal': 0, 'glue_defects': 1, 'bubble_defects': 2, 'object_defects': 3})\n",
        "val_set = val_datagen.flow_from_directory(val_path,\n",
        "                                            target_size = (HEIGHT, WIDTH),\n",
        "                                            batch_size = batch_size,\n",
        "                                            class_mode = 'sparse',\n",
        "                                            classes={'normal': 0, 'glue_defects': 1, 'bubble_defects': 2, 'object_defects': 3})"
      ],
      "metadata": {
        "colab": {
          "base_uri": "https://localhost:8080/"
        },
        "id": "GkloTrvTTK75",
        "outputId": "2f7651a3-8654-4ce9-e63b-d759e0fad00a"
      },
      "execution_count": 17,
      "outputs": [
        {
          "output_type": "stream",
          "name": "stdout",
          "text": [
            "Found 3043 images belonging to 4 classes.\n",
            "Found 655 images belonging to 4 classes.\n",
            "Found 651 images belonging to 4 classes.\n"
          ]
        }
      ]
    },
    {
      "cell_type": "code",
      "source": [
        "train_y=training_set.classes\n",
        "test_y=test_set.classes\n",
        "val_y=val_set.classes"
      ],
      "metadata": {
        "id": "dtecOle9TtRS"
      },
      "execution_count": 18,
      "outputs": []
    },
    {
      "cell_type": "markdown",
      "source": [
        "This shows the indicies of each class."
      ],
      "metadata": {
        "id": "2FjrKvnlT2F4"
      }
    },
    {
      "cell_type": "code",
      "source": [
        "val_set.class_indices"
      ],
      "metadata": {
        "colab": {
          "base_uri": "https://localhost:8080/"
        },
        "id": "kmwmih0hVd-F",
        "outputId": "b33e3338-fcd9-49bd-9204-1b486288794e"
      },
      "execution_count": 19,
      "outputs": [
        {
          "output_type": "execute_result",
          "data": {
            "text/plain": [
              "{'bubble_defects': 2, 'glue_defects': 1, 'normal': 0, 'object_defects': 3}"
            ]
          },
          "metadata": {},
          "execution_count": 19
        }
      ]
    },
    {
      "cell_type": "code",
      "source": [
        "test_set.class_indices"
      ],
      "metadata": {
        "colab": {
          "base_uri": "https://localhost:8080/"
        },
        "id": "8H2_ZvKIVSMH",
        "outputId": "fbb321a0-bbf1-45bf-d869-3b63a00e4809"
      },
      "execution_count": 20,
      "outputs": [
        {
          "output_type": "execute_result",
          "data": {
            "text/plain": [
              "{'bubble_defects': 2, 'glue_defects': 1, 'normal': 0, 'object_defects': 3}"
            ]
          },
          "metadata": {},
          "execution_count": 20
        }
      ]
    },
    {
      "cell_type": "code",
      "source": [
        "training_set.class_indices"
      ],
      "metadata": {
        "colab": {
          "base_uri": "https://localhost:8080/"
        },
        "id": "5Bl9i2iYTzh-",
        "outputId": "60832463-2631-4271-8460-9e6f9d0c9ca6"
      },
      "execution_count": 21,
      "outputs": [
        {
          "output_type": "execute_result",
          "data": {
            "text/plain": [
              "{'bubble_defects': 2, 'glue_defects': 1, 'normal': 0, 'object_defects': 3}"
            ]
          },
          "metadata": {},
          "execution_count": 21
        }
      ]
    },
    {
      "cell_type": "markdown",
      "source": [
        "Shape of each set. Notice they are all 1D arrays"
      ],
      "metadata": {
        "id": "BUxWk2XBVjVZ"
      }
    },
    {
      "cell_type": "code",
      "source": [
        "train_y.shape"
      ],
      "metadata": {
        "colab": {
          "base_uri": "https://localhost:8080/"
        },
        "id": "uZhAf5CKVlpc",
        "outputId": "bb9be5ec-9952-4456-adfe-81916a1ddd68"
      },
      "execution_count": 22,
      "outputs": [
        {
          "output_type": "execute_result",
          "data": {
            "text/plain": [
              "(3043,)"
            ]
          },
          "metadata": {},
          "execution_count": 22
        }
      ]
    },
    {
      "cell_type": "code",
      "source": [
        "test_y.shape"
      ],
      "metadata": {
        "colab": {
          "base_uri": "https://localhost:8080/"
        },
        "id": "uqsOXfAkVydU",
        "outputId": "060bdd1d-1f58-4a0f-81b4-a6a6164ed2c6"
      },
      "execution_count": 23,
      "outputs": [
        {
          "output_type": "execute_result",
          "data": {
            "text/plain": [
              "(655,)"
            ]
          },
          "metadata": {},
          "execution_count": 23
        }
      ]
    },
    {
      "cell_type": "code",
      "source": [
        "val_y.shape"
      ],
      "metadata": {
        "colab": {
          "base_uri": "https://localhost:8080/"
        },
        "id": "GaqRj7WmV0oP",
        "outputId": "2da4f896-b7b2-483f-e706-aecffd6f8b47"
      },
      "execution_count": 24,
      "outputs": [
        {
          "output_type": "execute_result",
          "data": {
            "text/plain": [
              "(651,)"
            ]
          },
          "metadata": {},
          "execution_count": 24
        }
      ]
    },
    {
      "cell_type": "markdown",
      "source": [
        "Build the Model"
      ],
      "metadata": {
        "id": "MWefmk8GWODS"
      }
    },
    {
      "cell_type": "code",
      "source": [
        "num_classes= 4\n",
        "\n",
        "model = tf.keras.Sequential([\n",
        "  tf.keras.layers.Rescaling(1./255),\n",
        "  tf.keras.layers.Conv2D(32, 3, activation='relu'),\n",
        "  tf.keras.layers.MaxPooling2D(),\n",
        "\n",
        "  tf.keras.layers.Conv2D(32, 3, activation='relu'),\n",
        "  tf.keras.layers.MaxPooling2D(),\n",
        "\n",
        "  tf.keras.layers.Conv2D(32, 3, activation='relu'),\n",
        "  tf.keras.layers.MaxPooling2D(),\n",
        "  \n",
        "  tf.keras.layers.Flatten(),\n",
        "  tf.keras.layers.Dense(128, activation='relu'),\n",
        "  tf.keras.layers.Dense(num_classes)\n",
        "])"
      ],
      "metadata": {
        "id": "CvOU2vD8mYrZ"
      },
      "execution_count": 29,
      "outputs": []
    },
    {
      "cell_type": "markdown",
      "source": [
        "Applying Early Stopping to avoid overfitting of the model"
      ],
      "metadata": {
        "id": "sXaZ8dP6Yg5y"
      }
    },
    {
      "cell_type": "code",
      "source": [
        "from tensorflow.keras.callbacks import EarlyStopping\n",
        "early_stop=EarlyStopping(monitor='val_loss',mode='min',verbose=1,patience=5)"
      ],
      "metadata": {
        "id": "xLO_a4t7YpBT"
      },
      "execution_count": 31,
      "outputs": []
    },
    {
      "cell_type": "markdown",
      "source": [
        "Compile the Model"
      ],
      "metadata": {
        "id": "e5EZsvFsoh38"
      }
    },
    {
      "cell_type": "code",
      "source": [
        "model.compile(\n",
        "  optimizer='adam',\n",
        "  loss=tf.keras.losses.SparseCategoricalCrossentropy(from_logits=True),\n",
        "  metrics=['accuracy'])"
      ],
      "metadata": {
        "id": "LKZH9-7rohAf"
      },
      "execution_count": 33,
      "outputs": []
    },
    {
      "cell_type": "code",
      "source": [
        "model.summary()"
      ],
      "metadata": {
        "colab": {
          "base_uri": "https://localhost:8080/"
        },
        "id": "oa8DjSB3a8I2",
        "outputId": "0043791e-f423-4349-b358-d2e0ae584448"
      },
      "execution_count": 35,
      "outputs": [
        {
          "output_type": "stream",
          "name": "stdout",
          "text": [
            "Model: \"sequential_1\"\n",
            "_________________________________________________________________\n",
            " Layer (type)                Output Shape              Param #   \n",
            "=================================================================\n",
            " rescaling_1 (Rescaling)     (None, 180, 180, 3)       0         \n",
            "                                                                 \n",
            " conv2d_3 (Conv2D)           (None, 178, 178, 32)      896       \n",
            "                                                                 \n",
            " max_pooling2d_3 (MaxPooling  (None, 89, 89, 32)       0         \n",
            " 2D)                                                             \n",
            "                                                                 \n",
            " conv2d_4 (Conv2D)           (None, 87, 87, 32)        9248      \n",
            "                                                                 \n",
            " max_pooling2d_4 (MaxPooling  (None, 43, 43, 32)       0         \n",
            " 2D)                                                             \n",
            "                                                                 \n",
            " conv2d_5 (Conv2D)           (None, 41, 41, 32)        9248      \n",
            "                                                                 \n",
            " max_pooling2d_5 (MaxPooling  (None, 20, 20, 32)       0         \n",
            " 2D)                                                             \n",
            "                                                                 \n",
            " flatten_1 (Flatten)         (None, 12800)             0         \n",
            "                                                                 \n",
            " dense_2 (Dense)             (None, 128)               1638528   \n",
            "                                                                 \n",
            " dense_3 (Dense)             (None, 4)                 516       \n",
            "                                                                 \n",
            "=================================================================\n",
            "Total params: 1,658,436\n",
            "Trainable params: 1,658,436\n",
            "Non-trainable params: 0\n",
            "_________________________________________________________________\n"
          ]
        }
      ]
    },
    {
      "cell_type": "markdown",
      "source": [
        "Fit the Model"
      ],
      "metadata": {
        "id": "fHX-bVbLYyVa"
      }
    },
    {
      "cell_type": "code",
      "source": [
        "# fit the model\n",
        "history = model.fit(\n",
        "  train_x,\n",
        "  train_y,\n",
        "  validation_data=(val_x,val_y),\n",
        "  epochs=10,\n",
        "  callbacks=[early_stop],\n",
        "  batch_size=batch_size,shuffle=True)"
      ],
      "metadata": {
        "colab": {
          "base_uri": "https://localhost:8080/"
        },
        "id": "NUsS7AuMYzmC",
        "outputId": "02d2a361-5abe-4b30-a2f0-813e3784ba3b"
      },
      "execution_count": 34,
      "outputs": [
        {
          "output_type": "stream",
          "name": "stdout",
          "text": [
            "Epoch 1/10\n",
            "96/96 [==============================] - 119s 1s/step - loss: 0.7834 - accuracy: 0.7874 - val_loss: 0.7373 - val_accuracy: 0.7942\n",
            "Epoch 2/10\n",
            "96/96 [==============================] - 117s 1s/step - loss: 0.7416 - accuracy: 0.7936 - val_loss: 0.7423 - val_accuracy: 0.7942\n",
            "Epoch 3/10\n",
            "96/96 [==============================] - 118s 1s/step - loss: 0.7369 - accuracy: 0.7936 - val_loss: 0.7406 - val_accuracy: 0.7942\n",
            "Epoch 4/10\n",
            "96/96 [==============================] - 118s 1s/step - loss: 0.7323 - accuracy: 0.7936 - val_loss: 0.7299 - val_accuracy: 0.7942\n",
            "Epoch 5/10\n",
            "96/96 [==============================] - 116s 1s/step - loss: 0.7296 - accuracy: 0.7936 - val_loss: 0.7015 - val_accuracy: 0.7942\n",
            "Epoch 6/10\n",
            "96/96 [==============================] - 118s 1s/step - loss: 0.7439 - accuracy: 0.7936 - val_loss: 0.7405 - val_accuracy: 0.7942\n",
            "Epoch 7/10\n",
            "96/96 [==============================] - 117s 1s/step - loss: 0.7402 - accuracy: 0.7936 - val_loss: 0.7260 - val_accuracy: 0.7942\n",
            "Epoch 8/10\n",
            "96/96 [==============================] - 117s 1s/step - loss: 0.7301 - accuracy: 0.7936 - val_loss: 0.7108 - val_accuracy: 0.7942\n",
            "Epoch 9/10\n",
            "96/96 [==============================] - 116s 1s/step - loss: 0.7292 - accuracy: 0.7936 - val_loss: 0.6959 - val_accuracy: 0.7942\n",
            "Epoch 10/10\n",
            "96/96 [==============================] - 117s 1s/step - loss: 0.6559 - accuracy: 0.8087 - val_loss: 0.6106 - val_accuracy: 0.8280\n"
          ]
        }
      ]
    },
    {
      "cell_type": "markdown",
      "source": [
        "Visualizing Loss and Accuracy"
      ],
      "metadata": {
        "id": "D6ma-Am8tjiF"
      }
    },
    {
      "cell_type": "code",
      "source": [
        "#Summarizing History for Accuracy\n",
        "plt.plot(history.history['accuracy'])\n",
        "plt.plot(history.history['val_accuracy'])\n",
        "plt.title('model accuracy')\n",
        "plt.ylabel('accuracy')\n",
        "plt.xlabel('epoch')\n",
        "plt.legend(['train', 'test'], loc='upper left')\n",
        "plt.show()"
      ],
      "metadata": {
        "colab": {
          "base_uri": "https://localhost:8080/",
          "height": 295
        },
        "id": "vBWbNWiYtmjP",
        "outputId": "f7dbbbbf-900a-493e-81b7-ade1e3d491e6"
      },
      "execution_count": 37,
      "outputs": [
        {
          "output_type": "display_data",
          "data": {
            "text/plain": [
              "<Figure size 432x288 with 1 Axes>"
            ],
            "image/png": "[encoded data removed]"
          },
          "metadata": {
            "needs_background": "light"
          }
        }
      ]
    },
    {
      "cell_type": "code",
      "source": [
        "# summarize history for loss\n",
        "plt.plot(history.history['loss'])\n",
        "plt.plot(history.history['val_loss'])\n",
        "plt.title('model loss')\n",
        "plt.ylabel('loss')\n",
        "plt.xlabel('epoch')\n",
        "plt.legend(['train', 'test'], loc='upper left')\n",
        "plt.show()"
      ],
      "metadata": {
        "colab": {
          "base_uri": "https://localhost:8080/",
          "height": 295
        },
        "id": "D5ae9uk-tz1_",
        "outputId": "4e77fdd4-474a-4e00-cc47-e47d807c2208"
      },
      "execution_count": 38,
      "outputs": [
        {
          "output_type": "display_data",
          "data": {
            "text/plain": [
              "<Figure size 432x288 with 1 Axes>"
            ],
            "image/png": "[encoded data removed]"
          },
          "metadata": {
            "needs_background": "light"
          }
        }
      ]
    }
  ]
}
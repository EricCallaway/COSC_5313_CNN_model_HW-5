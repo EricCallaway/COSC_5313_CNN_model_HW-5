{
  "nbformat": 4,
  "nbformat_minor": 0,
  "metadata": {
    "colab": {
      "name": "CNN_model_HW#5.ipynb",
      "provenance": [],
      "collapsed_sections": [],
      "mount_file_id": "17Zwl1QolU4t-RoXfthmo21YYmjLneV_S",
      "authorship_tag": "ABX9TyMVN0VW32GathId4NL3XH/q",
      "include_colab_link": true
    },
    "kernelspec": {
      "name": "python3",
      "display_name": "Python 3"
    },
    "language_info": {
      "name": "python"
    }
  },
  "cells": [
    {
      "cell_type": "markdown",
      "metadata": {
        "id": "view-in-github",
        "colab_type": "text"
      },
      "source": [
        "<a href=\"https://colab.research.google.com/github/EricCallaway/COSC_5313_CNN_model_HW-5/blob/test/CNN_model_HW_5.ipynb\" target=\"_parent\"><img src=\"https://colab.research.google.com/assets/colab-badge.svg\" alt=\"Open In Colab\"/></a>"
      ]
    },
    {
      "cell_type": "markdown",
      "source": [
        "Import necessary Libraries"
      ],
      "metadata": {
        "id": "tmqRWvTU_Heu"
      }
    },
    {
      "cell_type": "code",
      "execution_count": 1,
      "metadata": {
        "id": "D1s68Tq9-79I"
      },
      "outputs": [],
      "source": [
        "import tensorflow as tf\n",
        "from tensorflow import keras\n",
        "from tensorflow.keras.models import Sequential\n",
        "from tensorflow.keras.layers import Dense, Dropout, Activation, Flatten\n",
        "from tensorflow.keras.layers import Conv2D, MaxPooling2D\n",
        "from tensorflow.keras.preprocessing import image\n",
        "from tensorflow.keras.preprocessing.image import ImageDataGenerator\n",
        "from keras import regularizers, optimizers\n",
        "import pandas as pd\n",
        "import numpy as np\n",
        "\n"
      ]
    },
    {
      "cell_type": "markdown",
      "source": [
        "Import Dataset"
      ],
      "metadata": {
        "id": "5KCZJaubCrOY"
      }
    },
    {
      "cell_type": "code",
      "source": [
        "from google.colab import drive\n",
        "drive.mount('/content/drive', force_remount=False)"
      ],
      "metadata": {
        "colab": {
          "base_uri": "https://localhost:8080/"
        },
        "id": "0X_RgFxhCtQa",
        "outputId": "ad45c748-c38d-4d8c-84ed-679eedea18e3"
      },
      "execution_count": 2,
      "outputs": [
        {
          "output_type": "stream",
          "name": "stdout",
          "text": [
            "Drive already mounted at /content/drive; to attempt to forcibly remount, call drive.mount(\"/content/drive\", force_remount=True).\n"
          ]
        }
      ]
    },
    {
      "cell_type": "code",
      "source": [
        "img_data_path_1 = \"/content/drive/MyDrive/Data/HW#5_Dataset/imgs1/\"\n",
        "img_data_path_2 = \"/content/drive/MyDrive/Data/HW#5_Dataset/imgs2/\"\n",
        "file_data = \"/content/drive/MyDrive/Data/HW#5_Dataset/file_data.csv\"\n",
        "class_0_path = \"/content/drive/MyDrive/Data/HW#5_Dataset/class_0.csv\"\n",
        "class_1_path = \"/content/drive/MyDrive/Data/HW#5_Dataset/class_1.csv\"\n",
        "class_2_path = \"/content/drive/MyDrive/Data/HW#5_Dataset/class_2.csv\"\n",
        "class_3_path = \"/content/drive/MyDrive/Data/HW#5_Dataset/class_3.csv\"\n",
        "\n",
        "\n",
        "df = pd.read_csv(file_data)\n",
        "df_class_0 = pd.read_csv(class_0_path)\n",
        "df_class_1 = pd.read_csv(class_1_path)\n",
        "df_class_2 = pd.read_csv(class_2_path)\n",
        "df_class_3 = pd.read_csv(class_3_path)\n",
        "\n",
        "\n",
        "seq_nums = df['seq_num'].values\n",
        "file_name = df[' file_name'].values\n",
        "class_label = df[' class_label'].values\n",
        "\n"
      ],
      "metadata": {
        "id": "1Uq-OWj4DVqF"
      },
      "execution_count": 3,
      "outputs": []
    },
    {
      "cell_type": "code",
      "source": [
        "# pip install split-folders"
      ],
      "metadata": {
        "id": "8AFCWLpb7nog"
      },
      "execution_count": 4,
      "outputs": []
    },
    {
      "cell_type": "code",
      "source": [
        "# import splitfolders\n",
        "# input = '/content/drive/MyDrive/Data/HW#5_Dataset/imgs1'\n",
        "# output = 'final_dataset'\n",
        "# splitfolders.ratio(input, output=output, seed=1337, ratio=(.7, 0.15,0.15))"
      ],
      "metadata": {
        "id": "ZyF2lna87dVg"
      },
      "execution_count": 5,
      "outputs": []
    },
    {
      "cell_type": "code",
      "source": [
        "train_path = '/content/drive/MyDrive/Data/HW#5_Dataset/final_dataset/train/'\n",
        "test_path = '/content/drive/MyDrive/Data/HW#5_Dataset/final_dataset/test/'\n",
        "val_path = '/content/drive/MyDrive/Data/HW#5_Dataset/final_dataset/val/'"
      ],
      "metadata": {
        "id": "RBMSNRi5NpaJ"
      },
      "execution_count": 6,
      "outputs": []
    },
    {
      "cell_type": "code",
      "source": [
        "HEIGHT = 256\n",
        "WIDTH = 256"
      ],
      "metadata": {
        "id": "atA51UdRc4nm"
      },
      "execution_count": 7,
      "outputs": []
    },
    {
      "cell_type": "code",
      "source": [
        "import os\n",
        "import cv2\n",
        "x_train = []\n",
        "for folder in os.listdir(train_path):\n",
        "  sub_path = train_path + folder\n",
        "  for img in os.listdir(sub_path):\n",
        "    image_path = sub_path + '/' + img\n",
        "    img_arr = cv2.imread(image_path)\n",
        "    img_arr=cv2.resize(img_arr,(HEIGHT,WIDTH))\n",
        "    x_train.append(img_arr)\n",
        "\n"
      ],
      "metadata": {
        "id": "Ip3V8XhKN5kq"
      },
      "execution_count": 8,
      "outputs": []
    },
    {
      "cell_type": "code",
      "source": [
        "print(len(x_train))"
      ],
      "metadata": {
        "colab": {
          "base_uri": "https://localhost:8080/"
        },
        "id": "oPJmVJJoQzaB",
        "outputId": "242586be-7bea-4d26-c175-23a2fe74218c"
      },
      "execution_count": 9,
      "outputs": [
        {
          "output_type": "stream",
          "name": "stdout",
          "text": [
            "3043\n"
          ]
        }
      ]
    },
    {
      "cell_type": "code",
      "source": [
        "x_test = []\n",
        "for folder in os.listdir(test_path):\n",
        "  sub_path = test_path + folder\n",
        "  for img in os.listdir(sub_path):\n",
        "    image_path = sub_path + '/' + img\n",
        "    img_arr = cv2.imread(image_path)\n",
        "    img_arr=cv2.resize(img_arr,(HEIGHT,WIDTH))\n",
        "    x_test.append(img_arr)"
      ],
      "metadata": {
        "id": "mNz7aMC1QZlH"
      },
      "execution_count": 10,
      "outputs": []
    },
    {
      "cell_type": "code",
      "source": [
        "print(len(x_test))"
      ],
      "metadata": {
        "colab": {
          "base_uri": "https://localhost:8080/"
        },
        "id": "o6Eiua2DQfiy",
        "outputId": "0da14fe1-abbe-44ad-d76a-bef7dc7468f5"
      },
      "execution_count": 11,
      "outputs": [
        {
          "output_type": "stream",
          "name": "stdout",
          "text": [
            "655\n"
          ]
        }
      ]
    },
    {
      "cell_type": "code",
      "source": [
        "x_val = []\n",
        "for folder in os.listdir(val_path):\n",
        "  sub_path = val_path + folder\n",
        "  for img in os.listdir(sub_path):\n",
        "    image_path = sub_path + '/' + img\n",
        "    img_arr = cv2.imread(image_path)\n",
        "    img_arr=cv2.resize(img_arr,(HEIGHT,WIDTH))\n",
        "    x_val.append(img_arr)"
      ],
      "metadata": {
        "id": "XvjV1TKqRf7X"
      },
      "execution_count": 12,
      "outputs": []
    },
    {
      "cell_type": "code",
      "source": [
        "print(len(x_val))"
      ],
      "metadata": {
        "colab": {
          "base_uri": "https://localhost:8080/"
        },
        "id": "-BxGD_yCRwWR",
        "outputId": "5f0184e8-14c4-4016-face-e03be71b6125"
      },
      "execution_count": 13,
      "outputs": [
        {
          "output_type": "stream",
          "name": "stdout",
          "text": [
            "651\n"
          ]
        }
      ]
    },
    {
      "cell_type": "markdown",
      "source": [
        "Turn our Train, Test, and Validation lists into numpy arrays.\n",
        "Also normalize the values in the arrays between the values 0 and 1. We do this by dividing each element in the array by 255."
      ],
      "metadata": {
        "id": "ooYMzEcOR3p7"
      }
    },
    {
      "cell_type": "code",
      "source": [
        "train_x = np.array(x_train)\n",
        "test_x = np.array(x_test)\n",
        "val_x = np.array(x_val)\n",
        "\n",
        "train_x = train_x/255.0\n",
        "test_x = test_x/255.0\n",
        "val_x = val_x/255.0"
      ],
      "metadata": {
        "id": "iSsMGO2ER8Hq"
      },
      "execution_count": 14,
      "outputs": []
    },
    {
      "cell_type": "markdown",
      "source": [
        "Compute labels of corresponding datasets using ImgageDataGenerator. We use this because our images are stored in folders. We must walk through the folders and find out the corresoponding labels of images stored here. "
      ],
      "metadata": {
        "id": "DfOpoVIESq-i"
      }
    },
    {
      "cell_type": "code",
      "source": [
        "train_datagen = ImageDataGenerator(rescale = 1./255)\n",
        "test_datagen = ImageDataGenerator(rescale = 1./255)\n",
        "val_datagen = ImageDataGenerator(rescale = 1./255)"
      ],
      "metadata": {
        "id": "eOewsZ6US-iK"
      },
      "execution_count": 15,
      "outputs": []
    },
    {
      "cell_type": "code",
      "source": [
        "training_set = train_datagen.flow_from_directory(train_path,\n",
        "                                                 target_size = (HEIGHT, WIDTH),\n",
        "                                                 batch_size = 32,\n",
        "                                                 class_mode = 'sparse',\n",
        "                                                 classes={'normal': 0, 'glue_defects': 1, 'bubble_defects': 2, 'object_defects': 3})\n",
        "test_set = test_datagen.flow_from_directory(test_path,\n",
        "                                            target_size = (HEIGHT, WIDTH),\n",
        "                                            batch_size = 32,\n",
        "                                            class_mode = 'sparse',\n",
        "                                            classes={'normal': 0, 'glue_defects': 1, 'bubble_defects': 2, 'object_defects': 3})\n",
        "val_set = val_datagen.flow_from_directory(val_path,\n",
        "                                            target_size = (HEIGHT, WIDTH),\n",
        "                                            batch_size = 32,\n",
        "                                            class_mode = 'sparse',\n",
        "                                            classes={'normal': 0, 'glue_defects': 1, 'bubble_defects': 2, 'object_defects': 3})"
      ],
      "metadata": {
        "colab": {
          "base_uri": "https://localhost:8080/"
        },
        "id": "GkloTrvTTK75",
        "outputId": "d00be521-bf4f-4f2b-afd8-4e89e70cea68"
      },
      "execution_count": 16,
      "outputs": [
        {
          "output_type": "stream",
          "name": "stdout",
          "text": [
            "Found 3043 images belonging to 4 classes.\n",
            "Found 655 images belonging to 4 classes.\n",
            "Found 651 images belonging to 4 classes.\n"
          ]
        }
      ]
    },
    {
      "cell_type": "code",
      "source": [
        "train_y=training_set.classes\n",
        "test_y=test_set.classes\n",
        "val_y=val_set.classes"
      ],
      "metadata": {
        "id": "dtecOle9TtRS"
      },
      "execution_count": 17,
      "outputs": []
    },
    {
      "cell_type": "markdown",
      "source": [
        "This shows the indicies of each class."
      ],
      "metadata": {
        "id": "2FjrKvnlT2F4"
      }
    },
    {
      "cell_type": "code",
      "source": [
        "val_set.class_indices"
      ],
      "metadata": {
        "colab": {
          "base_uri": "https://localhost:8080/"
        },
        "id": "kmwmih0hVd-F",
        "outputId": "d9dae792-8e23-41a3-995f-405707ac826c"
      },
      "execution_count": 18,
      "outputs": [
        {
          "output_type": "execute_result",
          "data": {
            "text/plain": [
              "{'bubble_defects': 2, 'glue_defects': 1, 'normal': 0, 'object_defects': 3}"
            ]
          },
          "metadata": {},
          "execution_count": 18
        }
      ]
    },
    {
      "cell_type": "code",
      "source": [
        "test_set.class_indices"
      ],
      "metadata": {
        "colab": {
          "base_uri": "https://localhost:8080/"
        },
        "id": "8H2_ZvKIVSMH",
        "outputId": "efde8fbf-96e4-4faa-fe93-a7cf2d4d64c4"
      },
      "execution_count": 19,
      "outputs": [
        {
          "output_type": "execute_result",
          "data": {
            "text/plain": [
              "{'bubble_defects': 2, 'glue_defects': 1, 'normal': 0, 'object_defects': 3}"
            ]
          },
          "metadata": {},
          "execution_count": 19
        }
      ]
    },
    {
      "cell_type": "code",
      "source": [
        "training_set.class_indices"
      ],
      "metadata": {
        "colab": {
          "base_uri": "https://localhost:8080/"
        },
        "id": "5Bl9i2iYTzh-",
        "outputId": "c48f36ff-33d3-41ac-f2ff-94d197eb3d2e"
      },
      "execution_count": 20,
      "outputs": [
        {
          "output_type": "execute_result",
          "data": {
            "text/plain": [
              "{'bubble_defects': 2, 'glue_defects': 1, 'normal': 0, 'object_defects': 3}"
            ]
          },
          "metadata": {},
          "execution_count": 20
        }
      ]
    },
    {
      "cell_type": "markdown",
      "source": [
        "Shape of each set. Notice they are all 1D arrays"
      ],
      "metadata": {
        "id": "BUxWk2XBVjVZ"
      }
    },
    {
      "cell_type": "code",
      "source": [
        "train_y.shape"
      ],
      "metadata": {
        "colab": {
          "base_uri": "https://localhost:8080/"
        },
        "id": "uZhAf5CKVlpc",
        "outputId": "777a6a1d-401e-424f-c0a0-75b45bf986ce"
      },
      "execution_count": 21,
      "outputs": [
        {
          "output_type": "execute_result",
          "data": {
            "text/plain": [
              "(3043,)"
            ]
          },
          "metadata": {},
          "execution_count": 21
        }
      ]
    },
    {
      "cell_type": "code",
      "source": [
        "test_y.shape"
      ],
      "metadata": {
        "colab": {
          "base_uri": "https://localhost:8080/"
        },
        "id": "uqsOXfAkVydU",
        "outputId": "b46a6d58-cd66-467d-87a0-b65be25eef3f"
      },
      "execution_count": 22,
      "outputs": [
        {
          "output_type": "execute_result",
          "data": {
            "text/plain": [
              "(655,)"
            ]
          },
          "metadata": {},
          "execution_count": 22
        }
      ]
    },
    {
      "cell_type": "code",
      "source": [
        "val_y.shape"
      ],
      "metadata": {
        "colab": {
          "base_uri": "https://localhost:8080/"
        },
        "id": "GaqRj7WmV0oP",
        "outputId": "9c254b6b-a7d2-4461-c635-62b78a61cf9b"
      },
      "execution_count": 23,
      "outputs": [
        {
          "output_type": "execute_result",
          "data": {
            "text/plain": [
              "(651,)"
            ]
          },
          "metadata": {},
          "execution_count": 23
        }
      ]
    },
    {
      "cell_type": "markdown",
      "source": [
        "Build the Model"
      ],
      "metadata": {
        "id": "MWefmk8GWODS"
      }
    },
    {
      "cell_type": "code",
      "source": [
        "model = Sequential()\n",
        "model.add(Conv2D(32, (3, 3), padding='same', input_shape=(HEIGHT,WIDTH,3)))\n",
        "model.add(Activation('relu'))\n",
        "\n",
        "model.add(Conv2D(32, (3, 3)))\n",
        "model.add(Activation('relu'))\n",
        "model.add(MaxPooling2D(pool_size=(2, 2)))\n",
        "model.add(Dropout(0.25))\n",
        "\n",
        "# model.add(Conv2D(64, (3, 3), padding='same'))\n",
        "# model.add(Activation('relu'))\n",
        "\n",
        "# model.add(Conv2D(64, (3, 3)))\n",
        "# model.add(Activation('relu'))\n",
        "# model.add(MaxPooling2D(pool_size=(2, 2)))\n",
        "# model.add(Dropout(0.25))\n",
        "\n",
        "model.add(Flatten())\n",
        "model.add(Dense(64))\n",
        "model.add(Activation('relu'))\n",
        "model.add(Dropout(0.5))\n",
        "\n",
        "model.add(Dense(1))\n",
        "model.compile(loss=\"categorical_crossentropy\", optimizer=\"adam\", metrics=['accuracy'])"
      ],
      "metadata": {
        "id": "DTTurk1DWQSV"
      },
      "execution_count": 24,
      "outputs": []
    },
    {
      "cell_type": "code",
      "source": [
        "model.summary()"
      ],
      "metadata": {
        "colab": {
          "base_uri": "https://localhost:8080/"
        },
        "id": "oa8DjSB3a8I2",
        "outputId": "e2f7efc7-3e2c-444a-eb2f-47cd12fe273b"
      },
      "execution_count": 25,
      "outputs": [
        {
          "output_type": "stream",
          "name": "stdout",
          "text": [
            "Model: \"sequential\"\n",
            "_________________________________________________________________\n",
            " Layer (type)                Output Shape              Param #   \n",
            "=================================================================\n",
            " conv2d (Conv2D)             (None, 256, 256, 32)      896       \n",
            "                                                                 \n",
            " activation (Activation)     (None, 256, 256, 32)      0         \n",
            "                                                                 \n",
            " conv2d_1 (Conv2D)           (None, 254, 254, 32)      9248      \n",
            "                                                                 \n",
            " activation_1 (Activation)   (None, 254, 254, 32)      0         \n",
            "                                                                 \n",
            " max_pooling2d (MaxPooling2D  (None, 127, 127, 32)     0         \n",
            " )                                                               \n",
            "                                                                 \n",
            " dropout (Dropout)           (None, 127, 127, 32)      0         \n",
            "                                                                 \n",
            " flatten (Flatten)           (None, 516128)            0         \n",
            "                                                                 \n",
            " dense (Dense)               (None, 64)                33032256  \n",
            "                                                                 \n",
            " activation_2 (Activation)   (None, 64)                0         \n",
            "                                                                 \n",
            " dropout_1 (Dropout)         (None, 64)                0         \n",
            "                                                                 \n",
            " dense_1 (Dense)             (None, 1)                 65        \n",
            "                                                                 \n",
            "=================================================================\n",
            "Total params: 33,042,465\n",
            "Trainable params: 33,042,465\n",
            "Non-trainable params: 0\n",
            "_________________________________________________________________\n"
          ]
        }
      ]
    },
    {
      "cell_type": "markdown",
      "source": [
        "Applying Early Stopping to avoid overfitting of the model"
      ],
      "metadata": {
        "id": "sXaZ8dP6Yg5y"
      }
    },
    {
      "cell_type": "code",
      "source": [
        "from tensorflow.keras.callbacks import EarlyStopping\n",
        "early_stop=EarlyStopping(monitor='val_loss',mode='min',verbose=1,patience=5)"
      ],
      "metadata": {
        "id": "xLO_a4t7YpBT"
      },
      "execution_count": 26,
      "outputs": []
    },
    {
      "cell_type": "markdown",
      "source": [
        "Fit the Model"
      ],
      "metadata": {
        "id": "fHX-bVbLYyVa"
      }
    },
    {
      "cell_type": "code",
      "source": [
        "# fit the model\n",
        "history = model.fit(\n",
        "  train_x,\n",
        "  train_y,\n",
        "  validation_data=(val_x,val_y),\n",
        "  epochs=10,\n",
        "  callbacks=[early_stop],\n",
        "  batch_size=32,shuffle=True)"
      ],
      "metadata": {
        "colab": {
          "base_uri": "https://localhost:8080/"
        },
        "id": "NUsS7AuMYzmC",
        "outputId": "69a9acb2-f3ec-4550-cde8-f82835674989"
      },
      "execution_count": null,
      "outputs": [
        {
          "output_type": "stream",
          "name": "stdout",
          "text": [
            "Epoch 1/10\n"
          ]
        }
      ]
    }
  ]
}
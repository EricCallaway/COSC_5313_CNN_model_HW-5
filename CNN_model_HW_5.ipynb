{
  "nbformat": 4,
  "nbformat_minor": 0,
  "metadata": {
    "colab": {
      "name": "CNN_model_HW#5.ipynb",
      "provenance": [],
      "collapsed_sections": [],
      "mount_file_id": "17Zwl1QolU4t-RoXfthmo21YYmjLneV_S",
      "authorship_tag": "ABX9TyO358wzA35FtPweaM+Dz2pN",
      "include_colab_link": true
    },
    "kernelspec": {
      "name": "python3",
      "display_name": "Python 3"
    },
    "language_info": {
      "name": "python"
    }
  },
  "cells": [
    {
      "cell_type": "markdown",
      "metadata": {
        "id": "view-in-github",
        "colab_type": "text"
      },
      "source": [
        "<a href=\"https://colab.research.google.com/github/EricCallaway/COSC_5313_CNN_model_HW-5/blob/test/CNN_model_HW_5.ipynb\" target=\"_parent\"><img src=\"https://colab.research.google.com/assets/colab-badge.svg\" alt=\"Open In Colab\"/></a>"
      ]
    },
    {
      "cell_type": "markdown",
      "source": [
        "Import necessary Libraries"
      ],
      "metadata": {
        "id": "tmqRWvTU_Heu"
      }
    },
    {
      "cell_type": "code",
      "execution_count": null,
      "metadata": {
        "id": "D1s68Tq9-79I"
      },
      "outputs": [],
      "source": [
        "import tensorflow as tf\n",
        "from tensorflow import keras\n",
        "from tensorflow.keras.models import Sequential\n",
        "from tensorflow.keras.layers import Dense, Dropout, Activation, Flatten\n",
        "from tensorflow.keras.layers import Conv2D, MaxPooling2D\n",
        "import pandas as pd\n"
      ]
    },
    {
      "cell_type": "markdown",
      "source": [
        "Import Dataset"
      ],
      "metadata": {
        "id": "5KCZJaubCrOY"
      }
    },
    {
      "cell_type": "code",
      "source": [
        "from google.colab import drive\n",
        "drive.mount('/content/drive')"
      ],
      "metadata": {
        "colab": {
          "base_uri": "https://localhost:8080/"
        },
        "id": "0X_RgFxhCtQa",
        "outputId": "3d51cd55-c615-4408-c1f6-f9abd306c9f4"
      },
      "execution_count": null,
      "outputs": [
        {
          "output_type": "stream",
          "name": "stdout",
          "text": [
            "Drive already mounted at /content/drive; to attempt to forcibly remount, call drive.mount(\"/content/drive\", force_remount=True).\n"
          ]
        }
      ]
    },
    {
      "cell_type": "code",
      "source": [
        "img_data_path_1 = \"/content/drive/MyDrive/Data/HW#5_Dataset/imgs1/\"\n",
        "img_data_path_2 = \"/content/drive/MyDrive/Data/HW#5_Dataset/imgs2/\"\n",
        "file_data = \"/content/drive/MyDrive/Data/HW#5_Dataset/file_data.csv\"\n",
        "class_0_path = \"/content/drive/MyDrive/Data/HW#5_Dataset/class_0.csv\"\n",
        "class_1_path = \"/content/drive/MyDrive/Data/HW#5_Dataset/class_1.csv\"\n",
        "class_2_path = \"/content/drive/MyDrive/Data/HW#5_Dataset/class_2.csv\"\n",
        "class_3_path = \"/content/drive/MyDrive/Data/HW#5_Dataset/class_3.csv\"\n",
        "\n",
        "\n",
        "df = pd.read_csv(file_data)\n",
        "df_class_0 = pd.read_csv(class_0_path)\n",
        "df_class_1 = pd.read_csv(class_1_path)\n",
        "df_class_2 = pd.read_csv(class_2_path)\n",
        "df_class_3 = pd.read_csv(class_3_path)\n",
        "\n",
        "\n",
        "seq_nums = df['seq_num'].values\n",
        "file_name = df[' file_name'].values\n",
        "class_label = df[' class_label'].values\n",
        "\n"
      ],
      "metadata": {
        "id": "1Uq-OWj4DVqF"
      },
      "execution_count": null,
      "outputs": []
    },
    {
      "cell_type": "markdown",
      "source": [
        "Split each class dataset into train, test, split categories."
      ],
      "metadata": {
        "id": "JKxs5pd5a-Wn"
      }
    },
    {
      "cell_type": "code",
      "source": [
        "import torchvision\n",
        "import torch\n",
        "import torchvision.transforms as transforms\n",
        "import os\n",
        "import matplotlib.pyplot as plt\n",
        "import numpy as np\n",
        "\n",
        "x_train_0 = df_class_0[' file_name']\n",
        "y_train_0 = df_class_0[' class_label']\n"
      ],
      "metadata": {
        "id": "nQYq-k1YcSJF"
      },
      "execution_count": null,
      "outputs": []
    },
    {
      "cell_type": "code",
      "source": [
        "print(len(df))"
      ],
      "metadata": {
        "colab": {
          "base_uri": "https://localhost:8080/"
        },
        "id": "FMXweXEe6J7X",
        "outputId": "eae31914-5bf2-4c67-8ee3-74ee6aa697be"
      },
      "execution_count": null,
      "outputs": [
        {
          "output_type": "stream",
          "name": "stdout",
          "text": [
            "4349\n"
          ]
        }
      ]
    },
    {
      "cell_type": "markdown",
      "source": [
        "This essentially maps the file names to the corresponding class labels one for one. Example, the first file name is 000000 and the class label is 0."
      ],
      "metadata": {
        "id": "jAt3ycLOabIu"
      }
    },
    {
      "cell_type": "code",
      "source": [
        "ds_train = tf.data.Dataset.from_tensor_slices((file_name, class_label))"
      ],
      "metadata": {
        "id": "ehZYreZAaWz0"
      },
      "execution_count": null,
      "outputs": []
    },
    {
      "cell_type": "code",
      "source": [
        "def read_img_one(image_file, label):\n",
        "  image = tf.io.read_file(img_data_path_1 + image_file)\n",
        "  image = tf.image.decode_image(image, channels=3, dtype=tf.float32)\n",
        "  return image, label\n",
        "\n",
        "def read_img_two(image_file, label):\n",
        "  image = tf.io.read_file(img_data_path_2 + image_file)\n",
        "  image = tf.image.decode_image(image, channels=3, dtype=tf.float32)\n",
        "  return image, label"
      ],
      "metadata": {
        "id": "JJcQoW0pg9xT"
      },
      "execution_count": null,
      "outputs": []
    },
    {
      "cell_type": "code",
      "source": [
        "\n",
        "i, l = read_img_one('000038.bmp', 0)\n",
        "print(i)\n",
        "print(l)"
      ],
      "metadata": {
        "id": "-RL_BIoyhy5l"
      },
      "execution_count": null,
      "outputs": []
    },
    {
      "cell_type": "code",
      "source": [
        "import os\n",
        "files_1 = sorted(os.listdir(img_data_path_1))\n",
        "class_0_train_list = []\n",
        "i = 0\n",
        "for file in files_1:\n",
        "  if int(file.strip('.bmp')) == df_class_0[' file_name'].index[i]:\n",
        "    class_0_train_list.append(read_img_one(str(file), 0))\n",
        "  i = i + 1\n",
        "print(len(files_1))\n",
        "print(len(class_0_train_list))\n",
        "    \n",
        "\n",
        "files_2 = sorted(os.listdir(img_data_path_2))\n",
        "x = 2000\n",
        "for file in files_2:\n",
        "  if x == 3450:\n",
        "    break\n",
        "  if int(file.strip('.bmp')) == df_class_0[' file_name'].index[x]:\n",
        "    class_0_train_list.append(read_img_two(str(file), 0))\n",
        "  x = x + 1\n",
        "print(len(files_2))\n",
        "print(len(class_0_train_list))\n",
        "  \n",
        "\n"
      ],
      "metadata": {
        "colab": {
          "base_uri": "https://localhost:8080/"
        },
        "id": "EDJ27UH4gqKn",
        "outputId": "44ccf7c7-c6d7-4697-d0d0-a8a13fa44fa6"
      },
      "execution_count": null,
      "outputs": [
        {
          "output_type": "stream",
          "name": "stdout",
          "text": [
            "2000\n",
            "2000\n",
            "2349\n",
            "3450\n"
          ]
        }
      ]
    },
    {
      "cell_type": "code",
      "source": [
        "type(int(df_class_1[' file_name'].values[0]))\n"
      ],
      "metadata": {
        "colab": {
          "base_uri": "https://localhost:8080/"
        },
        "id": "eEnS0SRSeoFP",
        "outputId": "72f201a1-5b1e-4b2f-a1fc-f41821aa73d1"
      },
      "execution_count": null,
      "outputs": [
        {
          "output_type": "execute_result",
          "data": {
            "text/plain": [
              "int"
            ]
          },
          "metadata": {},
          "execution_count": 122
        }
      ]
    },
    {
      "cell_type": "code",
      "source": [
        "import os\n",
        "files_1 = sorted(os.listdir(img_data_path_1))\n",
        "class_1_train_list = []\n",
        "i = 0\n",
        "for file in files_1:\n",
        "  if i == 2000 or i == len(df_class_1):\n",
        "    break\n",
        "  if int(file.strip('.bmp')) == int(df_class_1[' file_name'].values[i]):\n",
        "    class_1_train_list.append(read_img_one(str(file), 1))\n",
        "  i = i + 1\n",
        "print(len(files_1))\n",
        "print(len(class_1_train_list))\n",
        "    \n",
        "\n",
        "files_2 = sorted(os.listdir(img_data_path_2))\n",
        "x = 0\n",
        "for file in files_2:\n",
        "  if x == 243:\n",
        "    break\n",
        "  # print(df_class_1[' file_name'].values[x])\n",
        "  # print(file.strip('.bmp'))\n",
        "  if int(file.strip('.bmp')) == int(df_class_1[' file_name'].values[x]):\n",
        "    class_1_train_list.append(read_img_two(str(file), 1))\n",
        "  if int(file.strip('.bmp')) >= 3450:\n",
        "    x = x + 1\n",
        "\n",
        "\n",
        "  \n",
        "print(len(files_2))\n",
        "print(len(class_1_train_list))"
      ],
      "metadata": {
        "colab": {
          "base_uri": "https://localhost:8080/"
        },
        "id": "zeVLEsRSeI-D",
        "outputId": "c1fc6d44-61ab-4e10-adbb-9ff22b59f232"
      },
      "execution_count": null,
      "outputs": [
        {
          "output_type": "stream",
          "name": "stdout",
          "text": [
            "2000\n",
            "0\n",
            "2349\n",
            "243\n"
          ]
        }
      ]
    },
    {
      "cell_type": "code",
      "source": [
        "df_class_2[' file_name'].values"
      ],
      "metadata": {
        "id": "5FExiFcuoY9R"
      },
      "execution_count": null,
      "outputs": []
    },
    {
      "cell_type": "code",
      "source": [
        "len(df_class_2)"
      ],
      "metadata": {
        "colab": {
          "base_uri": "https://localhost:8080/"
        },
        "id": "0-krU46jpXeZ",
        "outputId": "62db31d3-f8d3-492d-9f3d-dac9e6beaf24"
      },
      "execution_count": null,
      "outputs": [
        {
          "output_type": "execute_result",
          "data": {
            "text/plain": [
              "394"
            ]
          },
          "metadata": {},
          "execution_count": 140
        }
      ]
    },
    {
      "cell_type": "code",
      "source": [
        "import os\n",
        "files_1 = sorted(os.listdir(img_data_path_1))\n",
        "class_2_train_list = []\n",
        "i = 0\n",
        "for file in files_1:\n",
        "  if i == 2000 or i == len(df_class_2):\n",
        "    break\n",
        "  if int(file.strip('.bmp')) == int(df_class_2[' file_name'].values[i]):\n",
        "    class_2_train_list.append(read_img_one(str(file), 2))\n",
        "  i = i + 1\n",
        "print(len(files_1))\n",
        "print(len(class_2_train_list))\n",
        "    \n",
        "\n",
        "files_2 = sorted(os.listdir(img_data_path_2))\n",
        "x = 0\n",
        "for file in files_2:\n",
        "  if x == 394:\n",
        "    break\n",
        "  # print(df_class_1[' file_name'].values[x])\n",
        "  # print(file.strip('.bmp'))\n",
        "  if int(file.strip('.bmp')) == int(df_class_2[' file_name'].values[x]):\n",
        "    class_2_train_list.append(read_img_two(str(file), 2))\n",
        "  if int(file.strip('.bmp')) >= 3693:\n",
        "    x = x + 1\n",
        "\n",
        "\n",
        "print('hello')\n",
        "print(len(files_2))\n",
        "print(len(class_2_train_list))"
      ],
      "metadata": {
        "id": "3ROBt3WGoLia"
      },
      "execution_count": null,
      "outputs": []
    },
    {
      "cell_type": "code",
      "source": [
        "df_class_3[' file_name'].values[0]"
      ],
      "metadata": {
        "colab": {
          "base_uri": "https://localhost:8080/"
        },
        "id": "SYrA6DN_pyZ9",
        "outputId": "a841ebf0-d7a1-4bf3-da7b-56374814c05b"
      },
      "execution_count": null,
      "outputs": [
        {
          "output_type": "execute_result",
          "data": {
            "text/plain": [
              "4087"
            ]
          },
          "metadata": {},
          "execution_count": 144
        }
      ]
    },
    {
      "cell_type": "code",
      "source": [
        "len(df_class_3)"
      ],
      "metadata": {
        "colab": {
          "base_uri": "https://localhost:8080/"
        },
        "id": "vrJBGPvCpuYU",
        "outputId": "ecd98ec5-fdd7-471d-a1cf-3a78a2c920a8"
      },
      "execution_count": null,
      "outputs": [
        {
          "output_type": "execute_result",
          "data": {
            "text/plain": [
              "262"
            ]
          },
          "metadata": {},
          "execution_count": 143
        }
      ]
    },
    {
      "cell_type": "code",
      "source": [
        "import os\n",
        "files_1 = sorted(os.listdir(img_data_path_1))\n",
        "class_3_train_list = []\n",
        "i = 0\n",
        "for file in files_1:\n",
        "  if i == 2000 or i == len(df_class_3):\n",
        "    break\n",
        "  if int(file.strip('.bmp')) == int(df_class_3[' file_name'].values[i]):\n",
        "    class_3_train_list.append(read_img_one(str(file), 3))\n",
        "  i = i + 1\n",
        "print(len(files_1))\n",
        "print(len(class_3_train_list))\n",
        "    \n",
        "\n",
        "files_2 = sorted(os.listdir(img_data_path_2))\n",
        "x = 0\n",
        "for file in files_2:\n",
        "  if x == 262:\n",
        "    break\n",
        "  # print(df_class_1[' file_name'].values[x])\n",
        "  # print(file.strip('.bmp'))\n",
        "  if int(file.strip('.bmp')) == int(df_class_3[' file_name'].values[x]):\n",
        "    class_3_train_list.append(read_img_two(str(file), 3))\n",
        "  if int(file.strip('.bmp')) >= 4087:\n",
        "    x = x + 1\n",
        "\n",
        "\n",
        "  \n",
        "print(len(files_2))\n",
        "print(len(class_3_train_list))"
      ],
      "metadata": {
        "colab": {
          "base_uri": "https://localhost:8080/"
        },
        "id": "CF9WLgNCpezr",
        "outputId": "66dbb50b-7e61-433c-fc5e-bff29b779501"
      },
      "execution_count": null,
      "outputs": [
        {
          "output_type": "stream",
          "name": "stdout",
          "text": [
            "2000\n",
            "0\n",
            "2349\n",
            "262\n"
          ]
        }
      ]
    },
    {
      "cell_type": "code",
      "source": [
        "from pandas.core.common import random_state\n",
        "from sklearn.model_selection import train_test_split\n",
        "x_train_0, x_test_0 = train_test_split(class_0_train_list, test_size=0.15, random_state=42)\n",
        "x_train_1, x_test_1 = train_test_split(class_1_train_list, test_size=0.15, random_state=42)\n",
        "x_train_2, x_test_2 = train_test_split(class_2_train_list, test_size=0.15, random_state=42)\n",
        "x_train_3, x_test_3 = train_test_split(class_3_train_list, test_size=0.15, random_state=42)"
      ],
      "metadata": {
        "id": "sR0zV7EnllTq"
      },
      "execution_count": null,
      "outputs": []
    },
    {
      "cell_type": "code",
      "source": [
        "print(len(x_train_0))\n",
        "print(len(x_test_0))\n",
        "print(x_train_0[9])"
      ],
      "metadata": {
        "id": "Qh-SjNfJXuNy"
      },
      "execution_count": null,
      "outputs": []
    },
    {
      "cell_type": "code",
      "source": [
        "print(len(x_train_1))\n",
        "print(len(x_test_1))\n",
        "print(x_train_1[9])"
      ],
      "metadata": {
        "id": "RnsEW7dQj5eP"
      },
      "execution_count": null,
      "outputs": []
    },
    {
      "cell_type": "code",
      "source": [
        "print(len(x_train_2))\n",
        "print(len(x_test_2))\n",
        "print(x_train_2[9])"
      ],
      "metadata": {
        "id": "ruCOHJZYqGGS"
      },
      "execution_count": null,
      "outputs": []
    },
    {
      "cell_type": "code",
      "source": [
        "print(len(x_train_3))\n",
        "print(len(x_test_3))\n",
        "print(x_train_3[9])"
      ],
      "metadata": {
        "id": "RYGe5j5SqIS3"
      },
      "execution_count": null,
      "outputs": []
    }
  ]
}